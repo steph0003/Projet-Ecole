{
  "nbformat": 4,
  "nbformat_minor": 0,
  "metadata": {
    "colab": {
      "name": "RegressionLineaireAvecDataAleatoire.ipynb",
      "provenance": []
    },
    "kernelspec": {
      "name": "python3",
      "display_name": "Python 3"
    }
  },
  "cells": [
    {
      "cell_type": "markdown",
      "metadata": {
        "id": "s9u8oFFBx001"
      },
      "source": [
        "### Importation de bibliothèque "
      ]
    },
    {
      "cell_type": "code",
      "metadata": {
        "id": "UrJ-pGKZxMdE"
      },
      "source": [
        "import numpy as np\r\n",
        "from sklearn.datasets import make_regression\r\n",
        "import matplotlib.pyplot as plt"
      ],
      "execution_count": 1,
      "outputs": []
    },
    {
      "cell_type": "markdown",
      "metadata": {
        "id": "g-IMK_EUyM9U"
      },
      "source": [
        "### Visualisation des données "
      ]
    },
    {
      "cell_type": "code",
      "metadata": {
        "colab": {
          "base_uri": "https://localhost:8080/",
          "height": 282
        },
        "id": "FWx-7nPcyRsM",
        "outputId": "fa4b0e3b-02b1-4947-c33b-0b8b17525bd1"
      },
      "source": [
        "(x,y)= make_regression(n_samples=100,n_features=1,noise=10)\r\n",
        "plt.scatter(x,y)"
      ],
      "execution_count": 2,
      "outputs": [
        {
          "output_type": "execute_result",
          "data": {
            "text/plain": [
              "<matplotlib.collections.PathCollection at 0x7f5833e4cb90>"
            ]
          },
          "metadata": {
            "tags": []
          },
          "execution_count": 2
        },
        {
          "output_type": "display_data",
          "data": {
            "image/png": "[encoded data removed]",
            "text/plain": [
              "<Figure size 432x288 with 1 Axes>"
            ]
          },
          "metadata": {
            "tags": [],
            "needs_background": "light"
          }
        }
      ]
    },
    {
      "cell_type": "markdown",
      "metadata": {
        "id": "jNgE-OPDyX5y"
      },
      "source": [
        "### Verification des données "
      ]
    },
    {
      "cell_type": "code",
      "metadata": {
        "colab": {
          "base_uri": "https://localhost:8080/"
        },
        "id": "Z6Y4IkVsybAn",
        "outputId": "e12ab99b-424b-4076-d1ac-7e44a1172d19"
      },
      "source": [
        "print(x.shape)\r\n",
        "y = y.reshape(100,1) \r\n",
        "print(y.shape)"
      ],
      "execution_count": 3,
      "outputs": [
        {
          "output_type": "stream",
          "text": [
            "(100, 1)\n",
            "(100, 1)\n"
          ],
          "name": "stdout"
        }
      ]
    },
    {
      "cell_type": "markdown",
      "metadata": {
        "id": "_cuSvUhwyiJp"
      },
      "source": [
        "\r\n",
        "### Géneration de la  ma Matrice de x et de 1\r\n"
      ]
    },
    {
      "cell_type": "code",
      "metadata": {
        "colab": {
          "base_uri": "https://localhost:8080/"
        },
        "id": "koGUkZYJytMh",
        "outputId": "a756ecc9-45fc-4fd7-ce75-8dabf1076eb8"
      },
      "source": [
        "\r\n",
        "X = np.hstack((x,np.ones(x.shape)))\r\n",
        "X"
      ],
      "execution_count": 4,
      "outputs": [
        {
          "output_type": "execute_result",
          "data": {
            "text/plain": [
              "array([[-0.11675537,  1.        ],\n",
              "       [ 0.78565692,  1.        ],\n",
              "       [-1.1496171 ,  1.        ],\n",
              "       [ 0.71947707,  1.        ],\n",
              "       [-1.63970165,  1.        ],\n",
              "       [-0.31537404,  1.        ],\n",
              "       [-0.14552541,  1.        ],\n",
              "       [-1.05527292,  1.        ],\n",
              "       [-1.35309002,  1.        ],\n",
              "       [ 1.14316186,  1.        ],\n",
              "       [-1.75149092,  1.        ],\n",
              "       [-2.11026084,  1.        ],\n",
              "       [-0.30572656,  1.        ],\n",
              "       [-0.88639586,  1.        ],\n",
              "       [ 0.89423837,  1.        ],\n",
              "       [-1.08952648,  1.        ],\n",
              "       [-0.80900542,  1.        ],\n",
              "       [-0.29155227,  1.        ],\n",
              "       [-0.49677602,  1.        ],\n",
              "       [-0.41751036,  1.        ],\n",
              "       [ 0.59684408,  1.        ],\n",
              "       [ 1.01936498,  1.        ],\n",
              "       [ 1.55371798,  1.        ],\n",
              "       [ 0.62225165,  1.        ],\n",
              "       [ 0.42680782,  1.        ],\n",
              "       [ 1.67531472,  1.        ],\n",
              "       [ 1.50357535,  1.        ],\n",
              "       [-0.12124372,  1.        ],\n",
              "       [ 1.39735139,  1.        ],\n",
              "       [ 1.23325787,  1.        ],\n",
              "       [-0.396998  ,  1.        ],\n",
              "       [-0.07856976,  1.        ],\n",
              "       [-1.26196072,  1.        ],\n",
              "       [-0.92867407,  1.        ],\n",
              "       [-0.46425335,  1.        ],\n",
              "       [-0.94684971,  1.        ],\n",
              "       [-0.70949227,  1.        ],\n",
              "       [-2.69360945,  1.        ],\n",
              "       [-1.55347148,  1.        ],\n",
              "       [-2.177035  ,  1.        ],\n",
              "       [ 0.39891196,  1.        ],\n",
              "       [ 0.78509549,  1.        ],\n",
              "       [ 0.18469306,  1.        ],\n",
              "       [-0.13809715,  1.        ],\n",
              "       [ 1.17325416,  1.        ],\n",
              "       [-0.73400167,  1.        ],\n",
              "       [-0.68642975,  1.        ],\n",
              "       [-0.35347998,  1.        ],\n",
              "       [ 0.25835025,  1.        ],\n",
              "       [-1.19259733,  1.        ],\n",
              "       [ 0.11028992,  1.        ],\n",
              "       [ 0.75826119,  1.        ],\n",
              "       [ 1.92212127,  1.        ],\n",
              "       [ 0.8696204 ,  1.        ],\n",
              "       [-0.47900975,  1.        ],\n",
              "       [ 0.13429465,  1.        ],\n",
              "       [-1.6133004 ,  1.        ],\n",
              "       [ 0.18692262,  1.        ],\n",
              "       [-0.45796992,  1.        ],\n",
              "       [ 1.79874003,  1.        ],\n",
              "       [-1.10195624,  1.        ],\n",
              "       [ 1.32627426,  1.        ],\n",
              "       [ 1.07606132,  1.        ],\n",
              "       [-0.87060797,  1.        ],\n",
              "       [-1.13428755,  1.        ],\n",
              "       [ 0.00595204,  1.        ],\n",
              "       [ 0.71220243,  1.        ],\n",
              "       [ 1.90736104,  1.        ],\n",
              "       [-1.38360737,  1.        ],\n",
              "       [-0.80607769,  1.        ],\n",
              "       [ 2.40507619,  1.        ],\n",
              "       [ 0.77709549,  1.        ],\n",
              "       [ 1.40668809,  1.        ],\n",
              "       [ 0.16728961,  1.        ],\n",
              "       [ 0.10605272,  1.        ],\n",
              "       [ 0.90666825,  1.        ],\n",
              "       [-1.97644572,  1.        ],\n",
              "       [ 2.04937817,  1.        ],\n",
              "       [-0.70071142,  1.        ],\n",
              "       [-1.18085194,  1.        ],\n",
              "       [-0.06742596,  1.        ],\n",
              "       [-1.82051211,  1.        ],\n",
              "       [ 0.56001333,  1.        ],\n",
              "       [ 0.13666925,  1.        ],\n",
              "       [ 0.31232566,  1.        ],\n",
              "       [-0.57010713,  1.        ],\n",
              "       [ 0.32742156,  1.        ],\n",
              "       [ 0.71931986,  1.        ],\n",
              "       [ 0.79464872,  1.        ],\n",
              "       [-1.012702  ,  1.        ],\n",
              "       [ 0.29823138,  1.        ],\n",
              "       [ 0.89894129,  1.        ],\n",
              "       [-0.43171535,  1.        ],\n",
              "       [-0.61315238,  1.        ],\n",
              "       [-0.60913882,  1.        ],\n",
              "       [ 0.23757937,  1.        ],\n",
              "       [-0.14853159,  1.        ],\n",
              "       [ 0.48180651,  1.        ],\n",
              "       [-0.23198053,  1.        ],\n",
              "       [ 0.25529966,  1.        ]])"
            ]
          },
          "metadata": {
            "tags": []
          },
          "execution_count": 4
        }
      ]
    },
    {
      "cell_type": "markdown",
      "metadata": {
        "id": "VpzLhhp_yyWs"
      },
      "source": [
        "### Géneration de  maniere aléatoire les valeurs a et b de ma matrice theta\r\n"
      ]
    },
    {
      "cell_type": "code",
      "metadata": {
        "colab": {
          "base_uri": "https://localhost:8080/"
        },
        "id": "dsqriZPdy37J",
        "outputId": "035c27cb-c371-4a48-83db-02fc38347506"
      },
      "source": [
        "theta = np.random.randn(2,1)\r\n",
        "print(theta.shape)\r\n",
        "theta"
      ],
      "execution_count": 5,
      "outputs": [
        {
          "output_type": "stream",
          "text": [
            "(2, 1)\n"
          ],
          "name": "stdout"
        },
        {
          "output_type": "execute_result",
          "data": {
            "text/plain": [
              "array([[2.16825502],\n",
              "       [0.21735522]])"
            ]
          },
          "metadata": {
            "tags": []
          },
          "execution_count": 5
        }
      ]
    },
    {
      "cell_type": "markdown",
      "metadata": {
        "id": "84Xnporcy80U"
      },
      "source": [
        "###  Définition de  la fonction produit de X et Theta\r\n"
      ]
    },
    {
      "cell_type": "code",
      "metadata": {
        "colab": {
          "base_uri": "https://localhost:8080/"
        },
        "id": "rkN_VoFTzCgJ",
        "outputId": "70afa296-22c9-4d68-e7bb-676e99800994"
      },
      "source": [
        "def Model(X,theta):\r\n",
        "    return X.dot(theta)\r\n",
        "\r\n",
        "Model(X,theta)"
      ],
      "execution_count": 6,
      "outputs": [
        {
          "output_type": "execute_result",
          "data": {
            "text/plain": [
              "array([[-0.03580019],\n",
              "       [ 1.92085978],\n",
              "       [-2.27530782],\n",
              "       [ 1.77736499],\n",
              "       [-3.33793612],\n",
              "       [-0.46645613],\n",
              "       [-0.09818099],\n",
              "       [-2.07074559],\n",
              "       [-2.716489  ],\n",
              "       [ 2.69602167],\n",
              "       [-3.58032377],\n",
              "       [-4.35822845],\n",
              "       [-0.44553794],\n",
              "       [-1.70457705],\n",
              "       [ 2.15629205],\n",
              "       [-2.14501603],\n",
              "       [-1.53677486],\n",
              "       [-0.41480447],\n",
              "       [-0.85978189],\n",
              "       [-0.68791372],\n",
              "       [ 1.51146539],\n",
              "       [ 2.42759845],\n",
              "       [ 3.58621204],\n",
              "       [ 1.56655548],\n",
              "       [ 1.14278343],\n",
              "       [ 3.84986476],\n",
              "       [ 3.47749002],\n",
              "       [-0.04553208],\n",
              "       [ 3.24716938],\n",
              "       [ 2.89137279],\n",
              "       [-0.64343768],\n",
              "       [ 0.04699594],\n",
              "       [-2.51889746],\n",
              "       [-1.79624699],\n",
              "       [-0.78926444],\n",
              "       [-1.83565641],\n",
              "       [-1.32100496],\n",
              "       [-5.623077  ],\n",
              "       [-3.15096711],\n",
              "       [-4.50301186],\n",
              "       [ 1.08229808],\n",
              "       [ 1.91964245],\n",
              "       [ 0.61781688],\n",
              "       [-0.08207463],\n",
              "       [ 2.76126944],\n",
              "       [-1.3741476 ],\n",
              "       [-1.27099953],\n",
              "       [-0.54907952],\n",
              "       [ 0.77752445],\n",
              "       [-2.36849993],\n",
              "       [ 0.4564919 ],\n",
              "       [ 1.86145884],\n",
              "       [ 4.38500431],\n",
              "       [ 2.10291403],\n",
              "       [-0.82126009],\n",
              "       [ 0.50854026],\n",
              "       [-3.28069147],\n",
              "       [ 0.62265112],\n",
              "       [-0.77564036],\n",
              "       [ 4.11748231],\n",
              "       [-2.17196693],\n",
              "       [ 3.09305605],\n",
              "       [ 2.55053059],\n",
              "       [-1.67034488],\n",
              "       [-2.24206947],\n",
              "       [ 0.23026076],\n",
              "       [ 1.76159171],\n",
              "       [ 4.35300037],\n",
              "       [-2.78265842],\n",
              "       [-1.53042677],\n",
              "       [ 5.43217374],\n",
              "       [ 1.90229643],\n",
              "       [ 3.26741373],\n",
              "       [ 0.58008176],\n",
              "       [ 0.44730455],\n",
              "       [ 2.1832432 ],\n",
              "       [-4.06808314],\n",
              "       [ 4.66092972],\n",
              "       [-1.30196585],\n",
              "       [-2.34303293],\n",
              "       [ 0.07115853],\n",
              "       [-3.7299793 ],\n",
              "       [ 1.43160693],\n",
              "       [ 0.51368901],\n",
              "       [ 0.89455689],\n",
              "       [-1.01878242],\n",
              "       [ 0.92728865],\n",
              "       [ 1.77702412],\n",
              "       [ 1.9403563 ],\n",
              "       [-1.97844099],\n",
              "       [ 0.8639969 ],\n",
              "       [ 2.16648918],\n",
              "       [-0.71871377],\n",
              "       [-1.11211551],\n",
              "       [-1.10341309],\n",
              "       [ 0.73248788],\n",
              "       [-0.10469914],\n",
              "       [ 1.26203461],\n",
              "       [-0.28563772],\n",
              "       [ 0.77090998]])"
            ]
          },
          "metadata": {
            "tags": []
          },
          "execution_count": 6
        }
      ]
    },
    {
      "cell_type": "markdown",
      "metadata": {
        "id": "svFHPYJtzIxd"
      },
      "source": [
        "### Affichage de la droite  de regression par rapport à mon nuage de point\r\n"
      ]
    },
    {
      "cell_type": "code",
      "metadata": {
        "colab": {
          "base_uri": "https://localhost:8080/",
          "height": 298
        },
        "id": "EZ4UWeygzKCb",
        "outputId": "ffce3e44-358c-4613-b614-1a6d08b79761"
      },
      "source": [
        "plt.scatter(x,y)\r\n",
        "plt.plot(X,Model(X,theta))"
      ],
      "execution_count": 7,
      "outputs": [
        {
          "output_type": "execute_result",
          "data": {
            "text/plain": [
              "[<matplotlib.lines.Line2D at 0x7f5833929990>,\n",
              " <matplotlib.lines.Line2D at 0x7f5833929b90>]"
            ]
          },
          "metadata": {
            "tags": []
          },
          "execution_count": 7
        },
        {
          "output_type": "display_data",
          "data": {
            "image/png": "[encoded data removed]",
            "text/plain": [
              "<Figure size 432x288 with 1 Axes>"
            ]
          },
          "metadata": {
            "tags": [],
            "needs_background": "light"
          }
        }
      ]
    },
    {
      "cell_type": "markdown",
      "metadata": {
        "id": "V3L2mSdkzl8t"
      },
      "source": [
        "### Fonction cout\r\n"
      ]
    },
    {
      "cell_type": "code",
      "metadata": {
        "colab": {
          "base_uri": "https://localhost:8080/"
        },
        "id": "o1X7Em5Tzran",
        "outputId": "b616087e-f369-4715-d376-b4f6c4404fb2"
      },
      "source": [
        "def Cost_function(X,y,theta):\r\n",
        "    m = len(y)\r\n",
        "    return 1/(2*m) * np.sum((Model(X,theta)-y)**2)\r\n",
        "\r\n",
        "Cost_function(X,y,theta)"
      ],
      "execution_count": 8,
      "outputs": [
        {
          "output_type": "execute_result",
          "data": {
            "text/plain": [
              "3138.239464874811"
            ]
          },
          "metadata": {
            "tags": []
          },
          "execution_count": 8
        }
      ]
    },
    {
      "cell_type": "markdown",
      "metadata": {
        "id": "omJpCYjyzzKW"
      },
      "source": [
        "###  Fonction de gradient\r\n"
      ]
    },
    {
      "cell_type": "code",
      "metadata": {
        "id": "befqklV403q-"
      },
      "source": [
        "def grad(X,y,theta) :\r\n",
        "    m=len(y)\r\n",
        "    return 1/m * X.T.dot(Model(X,theta) - y)"
      ],
      "execution_count": 9,
      "outputs": []
    },
    {
      "cell_type": "markdown",
      "metadata": {
        "id": "5V2UzRrD07lS"
      },
      "source": [
        "### Definition de la fonction de descente de gradient\r\n"
      ]
    },
    {
      "cell_type": "code",
      "metadata": {
        "id": "lcx4s9mV1Bl1"
      },
      "source": [
        "def descente_gradient(X,y,theta,learning_rate,n_iterations) :\r\n",
        "    cost_history = np.zeros(n_iterations) \r\n",
        "    for i in range(0,n_iterations):\r\n",
        "        theta = theta - learning_rate * grad(X,y,theta)\r\n",
        "        cost_history[i] = Cost_function(X,y,theta)\r\n",
        "    return theta, cost_history"
      ],
      "execution_count": 10,
      "outputs": []
    },
    {
      "cell_type": "code",
      "metadata": {
        "colab": {
          "base_uri": "https://localhost:8080/",
          "height": 282
        },
        "id": "hfNsrZB41HQz",
        "outputId": "a8658a48-25cb-428b-e339-c1d9b5ac318b"
      },
      "source": [
        "# Marchine learning\r\n",
        "theta_final,cost_history = descente_gradient(X,y,theta,learning_rate=0.01,n_iterations=1000)\r\n",
        "predictions = Model(X,theta_final)\r\n",
        "plt.scatter(x,y)\r\n",
        "plt.plot(x,predictions,c=\"r\")"
      ],
      "execution_count": 11,
      "outputs": [
        {
          "output_type": "execute_result",
          "data": {
            "text/plain": [
              "[<matplotlib.lines.Line2D at 0x7f583383e050>]"
            ]
          },
          "metadata": {
            "tags": []
          },
          "execution_count": 11
        },
        {
          "output_type": "display_data",
          "data": {
            "image/png": "[encoded data removed]",
            "text/plain": [
              "<Figure size 432x288 with 1 Axes>"
            ]
          },
          "metadata": {
            "tags": [],
            "needs_background": "light"
          }
        }
      ]
    },
    {
      "cell_type": "markdown",
      "metadata": {
        "id": "G6VWVLfv1Ldb"
      },
      "source": [
        "### Visualisation de la courbe de gradient"
      ]
    },
    {
      "cell_type": "code",
      "metadata": {
        "colab": {
          "base_uri": "https://localhost:8080/",
          "height": 282
        },
        "id": "qovoPfAL1R4p",
        "outputId": "1a086211-c99a-45b9-9e36-638b52cd92ed"
      },
      "source": [
        "plt.plot(range(1000),cost_history)"
      ],
      "execution_count": 12,
      "outputs": [
        {
          "output_type": "execute_result",
          "data": {
            "text/plain": [
              "[<matplotlib.lines.Line2D at 0x7f5833820e50>]"
            ]
          },
          "metadata": {
            "tags": []
          },
          "execution_count": 12
        },
        {
          "output_type": "display_data",
          "data": {
            "image/png": "[encoded data removed]",
            "text/plain": [
              "<Figure size 432x288 with 1 Axes>"
            ]
          },
          "metadata": {
            "tags": [],
            "needs_background": "light"
          }
        }
      ]
    },
    {
      "cell_type": "markdown",
      "metadata": {
        "id": "TXs47c5x1XW-"
      },
      "source": [
        "### Calcul du coefficient de determination\r\n"
      ]
    },
    {
      "cell_type": "code",
      "metadata": {
        "colab": {
          "base_uri": "https://localhost:8080/"
        },
        "id": "hsUuvZRI1baM",
        "outputId": "ee6f394b-f002-499a-99e6-1da6a5665931"
      },
      "source": [
        "\r\n",
        "def coef_determination(y,predictions) :\r\n",
        "    u = ((y - predictions)**2).sum()\r\n",
        "    v = ((y - y.mean())**2).sum()\r\n",
        "    return 1 - (u/v)\r\n",
        "coef_determination(y,predictions)"
      ],
      "execution_count": 13,
      "outputs": [
        {
          "output_type": "execute_result",
          "data": {
            "text/plain": [
              "0.9870008686363932"
            ]
          },
          "metadata": {
            "tags": []
          },
          "execution_count": 13
        }
      ]
    }
  ]
}