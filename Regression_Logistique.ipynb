{
  "nbformat": 4,
  "nbformat_minor": 0,
  "metadata": {
    "colab": {
      "name": "Regression_Logistique.ipynb",
      "provenance": [],
      "toc_visible": true
    },
    "kernelspec": {
      "name": "python3",
      "display_name": "Python 3"
    }
  },
  "cells": [
    {
      "cell_type": "markdown",
      "metadata": {
        "id": "UnJtYQkAeNAQ"
      },
      "source": [
        "# **Regression Logistique**"
      ]
    },
    {
      "cell_type": "markdown",
      "metadata": {
        "id": "-_FzN7VueVQR"
      },
      "source": [
        "Importation des bibliotheques "
      ]
    },
    {
      "cell_type": "code",
      "metadata": {
        "id": "xSM7_D3Eee4y"
      },
      "source": [
        "import pandas as pd\n",
        "import numpy as np\n",
        "import statsmodels.api as sm\n",
        "import matplotlib.pyplot as plt \n",
        "from sklearn.linear_model import LogisticRegression"
      ],
      "execution_count": null,
      "outputs": []
    },
    {
      "cell_type": "code",
      "metadata": {
        "colab": {
          "base_uri": "https://localhost:8080/"
        },
        "id": "7YPrIpZIeRqC",
        "outputId": "f96b2801-9d87-4a9c-eb11-41eba8e4a0a9"
      },
      "source": [
        "data = pd.read_csv('donnée.csv')\n",
        "\n",
        "print(data.head()) "
      ],
      "execution_count": null,
      "outputs": [
        {
          "output_type": "stream",
          "text": [
            "   Dose  Numero du patient  Réponse 1  Réponse 2  Réponse 3  Réponse 4\n",
            "0     0                  1  -2.944439  -2.857619   0.050000          0\n",
            "1     1                  2  -2.928081  -2.881060   0.050783          0\n",
            "2     1                  3  -2.928081  -2.833669   0.050783          0\n",
            "3     1                  4  -2.928081  -2.853470   0.050783          0\n",
            "4     0                  5  -2.944439  -2.933886   0.050000          0\n"
          ],
          "name": "stdout"
        }
      ]
    },
    {
      "cell_type": "code",
      "metadata": {
        "colab": {
          "base_uri": "https://localhost:8080/"
        },
        "id": "Ebp6tsWxfkAE",
        "outputId": "ad324bc9-5e5f-4c18-c608-eac84ebec1eb"
      },
      "source": [
        "data.loc[:, 'Dose'].ravel()\n",
        "#.ravel()  Nous renvoir les series qui concerne pandas "
      ],
      "execution_count": null,
      "outputs": [
        {
          "output_type": "execute_result",
          "data": {
            "text/plain": [
              "array([   0,    1,    1,    1,    0,    3,    3,    3,    0,    9,    9,\n",
              "          9,    0,   20,   20,   20,    0,   40,   40,   40,    0,   80,\n",
              "         80,   80,    0,  200,  200,  200,    0,  400,  400,  400,    0,\n",
              "       1000, 1000, 1000])"
            ]
          },
          "metadata": {
            "tags": []
          },
          "execution_count": 14
        }
      ]
    },
    {
      "cell_type": "code",
      "metadata": {
        "id": "dErKpMZ4gFHW"
      },
      "source": [
        "X = np.reshape(data.loc[:, 'Dose'].ravel(), (-1, 1)) #ravel()\n",
        "Y = data.sort_values('Dose').loc[:, 'Réponse 4']"
      ],
      "execution_count": null,
      "outputs": []
    },
    {
      "cell_type": "code",
      "metadata": {
        "id": "QHVjbHFEhoHz"
      },
      "source": [
        "clf = LogisticRegression().fit(X, Y) # je fit X et Y dedans en faisant une initialisation."
      ],
      "execution_count": null,
      "outputs": []
    },
    {
      "cell_type": "code",
      "metadata": {
        "colab": {
          "base_uri": "https://localhost:8080/"
        },
        "id": "hr_Y25Lqh1aj",
        "outputId": "26dfe79c-b02d-4aae-ad4c-296621d95c31"
      },
      "source": [
        "clf.score(X, Y)  #Calcul de l'estimation"
      ],
      "execution_count": null,
      "outputs": [
        {
          "output_type": "execute_result",
          "data": {
            "text/plain": [
              "0.9444444444444444"
            ]
          },
          "metadata": {
            "tags": []
          },
          "execution_count": 22
        }
      ]
    },
    {
      "cell_type": "code",
      "metadata": {
        "colab": {
          "base_uri": "https://localhost:8080/",
          "height": 296
        },
        "id": "yMVMlxr4h_LF",
        "outputId": "21a83411-1c3e-4c1d-c037-c951ae6bea4e"
      },
      "source": [
        "fig, ax = plt.subplots(1, 1)\n",
        "ax.plot(X, Y, '.', label=\"observed\") #On place X(dose) et Y(reponse), pour modeliser \n",
        "ax.plot(X, clf.predict(X), label='theoretical') #Nous &llons estimer la courbe jaune \n",
        "ax.set_xlabel(\"X\") # nous allons set la valeur de X \n",
        "ax.set_ylabel(\"Y\") # nous allons set la valeur de Y\n",
        "ax.legend() # nous permet d'afficher la legende au bas de la courbe"
      ],
      "execution_count": null,
      "outputs": [
        {
          "output_type": "execute_result",
          "data": {
            "text/plain": [
              "<matplotlib.legend.Legend at 0x7fec82869320>"
            ]
          },
          "metadata": {
            "tags": []
          },
          "execution_count": 23
        },
        {
          "output_type": "display_data",
          "data": {
            "image/png": "[encoded data removed]",
            "text/plain": [
              "<Figure size 432x288 with 1 Axes>"
            ]
          },
          "metadata": {
            "tags": [],
            "needs_background": "light"
          }
        }
      ]
    },
    {
      "cell_type": "code",
      "metadata": {
        "id": "FoVv5hVhiwdT"
      },
      "source": [
        "Z = list(np.linspace(1, 1000, 1000).reshape(-1, 1))"
      ],
      "execution_count": null,
      "outputs": []
    },
    {
      "cell_type": "code",
      "metadata": {
        "colab": {
          "base_uri": "https://localhost:8080/",
          "height": 296
        },
        "id": "tDh7JQHsi1_x",
        "outputId": "750f6fc4-bb50-4758-846d-b503233832bb"
      },
      "source": [
        "fig, ax = plt.subplots(1, 1)\n",
        "ax.plot(X, Y, '.', label='observed')\n",
        "ax.plot(Z, clf.predict_proba(Z)[:, 1], label='theoretical')\n",
        "ax.set_xlabel('dose')\n",
        "ax.set_ylabel('réponse')\n",
        "ax.legend()"
      ],
      "execution_count": null,
      "outputs": [
        {
          "output_type": "execute_result",
          "data": {
            "text/plain": [
              "<matplotlib.legend.Legend at 0x7fec82378cf8>"
            ]
          },
          "metadata": {
            "tags": []
          },
          "execution_count": 25
        },
        {
          "output_type": "display_data",
          "data": {
            "image/png": "[encoded data removed]",
            "text/plain": [
              "<Figure size 432x288 with 1 Axes>"
            ]
          },
          "metadata": {
            "tags": [],
            "needs_background": "light"
          }
        }
      ]
    },
    {
      "cell_type": "code",
      "metadata": {
        "id": "SHkOPGY4jQFG"
      },
      "source": [
        "a = clf.coef_\n",
        "b = clf.intercept_"
      ],
      "execution_count": null,
      "outputs": []
    },
    {
      "cell_type": "code",
      "metadata": {
        "id": "iDmgapJyeGh6",
        "colab": {
          "base_uri": "https://localhost:8080/"
        },
        "outputId": "bea96526-e484-464a-c2fa-e4f1a9ea2b06"
      },
      "source": [
        "print(a)\n",
        "print(b)"
      ],
      "execution_count": null,
      "outputs": [
        {
          "output_type": "stream",
          "text": [
            "[[0.02699507]]\n",
            "[-4.30089726]\n"
          ],
          "name": "stdout"
        }
      ]
    },
    {
      "cell_type": "code",
      "metadata": {
        "colab": {
          "base_uri": "https://localhost:8080/"
        },
        "id": "92sGn2OZjYui",
        "outputId": "d65ecb97-9cdc-4501-d16b-44ddc9e78d6f"
      },
      "source": [
        "EC50 = (0.5 - b) / a\n",
        "print(EC50)"
      ],
      "execution_count": null,
      "outputs": [
        {
          "output_type": "stream",
          "text": [
            "[[177.84346247]]\n"
          ],
          "name": "stdout"
        }
      ]
    }
  ]
}